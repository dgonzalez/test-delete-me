{
 "cells": [
  {
   "cell_type": "code",
   "execution_count": 1,
   "id": "6e52f51f-b7d6-4ff2-986e-9f6dd10511a2",
   "metadata": {},
   "outputs": [],
   "source": [
    "import myfunctions\n",
    "import myfunctionstoo"
   ]
  },
  {
   "cell_type": "code",
   "execution_count": 3,
   "id": "c61249bf-a623-4a54-87de-525159fc8fff",
   "metadata": {},
   "outputs": [],
   "source": [
    "b = int('123')"
   ]
  },
  {
   "cell_type": "code",
   "execution_count": 4,
   "id": "59db4592-3c67-4190-9de6-63a792ad5b10",
   "metadata": {},
   "outputs": [
    {
     "data": {
      "text/plain": [
       "123"
      ]
     },
     "execution_count": 4,
     "metadata": {},
     "output_type": "execute_result"
    }
   ],
   "source": [
    "b"
   ]
  },
  {
   "cell_type": "code",
   "execution_count": 10,
   "id": "bdc587c2-1a80-4d7c-8b07-a53c4ad968a3",
   "metadata": {},
   "outputs": [
    {
     "ename": "IndexError",
     "evalue": "list index out of range",
     "output_type": "error",
     "traceback": [
      "\u001b[0;31m---------------------------------------------------------------------------\u001b[0m",
      "\u001b[0;31mIndexError\u001b[0m                                Traceback (most recent call last)",
      "Cell \u001b[0;32mIn[10], line 2\u001b[0m\n\u001b[1;32m      1\u001b[0m my_text \u001b[38;5;241m=\u001b[39m \u001b[38;5;124m\"\u001b[39m\u001b[38;5;124mDavid is\u001b[39m\u001b[38;5;124m\"\u001b[39m \n\u001b[0;32m----> 2\u001b[0m \u001b[43mmy_text\u001b[49m\u001b[38;5;241;43m.\u001b[39;49m\u001b[43msplit\u001b[49m\u001b[43m(\u001b[49m\u001b[38;5;124;43m\"\u001b[39;49m\u001b[38;5;124;43m \u001b[39;49m\u001b[38;5;124;43m\"\u001b[39;49m\u001b[43m)\u001b[49m\u001b[43m[\u001b[49m\u001b[38;5;241;43m2\u001b[39;49m\u001b[43m]\u001b[49m\n",
      "\u001b[0;31mIndexError\u001b[0m: list index out of range"
     ]
    }
   ],
   "source": [
    "my_text = \"David is\" \n",
    "my_text.split(\" \")[2]\n",
    "    "
   ]
  },
  {
   "cell_type": "code",
   "execution_count": 34,
   "id": "2d040062-5b70-43b4-a9f7-dcb413db422d",
   "metadata": {},
   "outputs": [],
   "source": []
  },
  {
   "cell_type": "code",
   "execution_count": 2,
   "id": "fdcdb90b-b3e4-4c4d-ae25-08bacf1ff5c3",
   "metadata": {},
   "outputs": [
    {
     "name": "stdout",
     "output_type": "stream",
     "text": [
      "c\n"
     ]
    }
   ],
   "source": [
    "print(myfunctions.third_word('a b c d'))"
   ]
  },
  {
   "cell_type": "code",
   "execution_count": 4,
   "id": "fcd645d4-37e7-456d-8359-ed8005fb7cbf",
   "metadata": {},
   "outputs": [
    {
     "name": "stdout",
     "output_type": "stream",
     "text": [
      "Hola Grace\n",
      "None\n"
     ]
    }
   ],
   "source": [
    "print(myfunctions.hello('Grace'))"
   ]
  },
  {
   "cell_type": "code",
   "execution_count": 2,
   "id": "24bf6071-bf9b-4f5b-b2fc-6b9d628484bb",
   "metadata": {},
   "outputs": [
    {
     "name": "stdout",
     "output_type": "stream",
     "text": [
      "('b', 'c')\n"
     ]
    }
   ],
   "source": [
    "print(myfunctionstoo.second_and_third_word('a b c d'))"
   ]
  },
  {
   "cell_type": "code",
   "execution_count": 3,
   "id": "ac3cd1f0-501e-473b-8868-fcace51749d5",
   "metadata": {},
   "outputs": [
    {
     "name": "stdout",
     "output_type": "stream",
     "text": [
      "Hello again!\n"
     ]
    }
   ],
   "source": [
    "print('Hello again!')"
   ]
  },
  {
   "cell_type": "code",
   "execution_count": null,
   "id": "30746c33-3553-4cae-8c41-cc7bddf812eb",
   "metadata": {},
   "outputs": [],
   "source": []
  }
 ],
 "metadata": {
  "kernelspec": {
   "display_name": "Python 3 (ipykernel)",
   "language": "python",
   "name": "python3"
  },
  "language_info": {
   "codemirror_mode": {
    "name": "ipython",
    "version": 3
   },
   "file_extension": ".py",
   "mimetype": "text/x-python",
   "name": "python",
   "nbconvert_exporter": "python",
   "pygments_lexer": "ipython3",
   "version": "3.8.10"
  }
 },
 "nbformat": 4,
 "nbformat_minor": 5
}
